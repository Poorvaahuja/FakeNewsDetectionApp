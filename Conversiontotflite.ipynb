{
  "nbformat": 4,
  "nbformat_minor": 0,
  "metadata": {
    "colab": {
      "provenance": [],
      "authorship_tag": "ABX9TyOSgAe5trBIPLlw6Hj0CLHx",
      "include_colab_link": true
    },
    "kernelspec": {
      "name": "python3",
      "display_name": "Python 3"
    },
    "language_info": {
      "name": "python"
    }
  },
  "cells": [
    {
      "cell_type": "markdown",
      "metadata": {
        "id": "view-in-github",
        "colab_type": "text"
      },
      "source": [
        "<a href=\"https://colab.research.google.com/github/Poorvaahuja/FakeNewsDetectionApp/blob/main/Conversiontotflite.ipynb\" target=\"_parent\"><img src=\"https://colab.research.google.com/assets/colab-badge.svg\" alt=\"Open In Colab\"/></a>"
      ]
    },
    {
      "cell_type": "code",
      "execution_count": 4,
      "metadata": {
        "colab": {
          "base_uri": "https://localhost:8080/"
        },
        "id": "Rf8nFgTYcTaN",
        "outputId": "e6e514d7-f710-4c21-942d-0fc711136c52"
      },
      "outputs": [
        {
          "output_type": "stream",
          "name": "stderr",
          "text": [
            "WARNING:absl:Compiled the loaded model, but the compiled metrics have yet to be built. `model.compile_metrics` will be empty until you train or evaluate the model.\n"
          ]
        },
        {
          "output_type": "stream",
          "name": "stdout",
          "text": [
            "Saved artifact at '/tmp/tmp7afk0kgn'. The following endpoints are available:\n",
            "\n",
            "* Endpoint 'serve'\n",
            "  args_0 (POSITIONAL_ONLY): TensorSpec(shape=(None, 400), dtype=tf.float32, name='input_layer')\n",
            "Output Type:\n",
            "  TensorSpec(shape=(None, 1), dtype=tf.float32, name=None)\n",
            "Captures:\n",
            "  138433943485280: TensorSpec(shape=(), dtype=tf.resource, name=None)\n",
            "  138433944020496: TensorSpec(shape=(), dtype=tf.resource, name=None)\n",
            "  138433944014160: TensorSpec(shape=(), dtype=tf.resource, name=None)\n",
            "  138433944010816: TensorSpec(shape=(), dtype=tf.resource, name=None)\n",
            "  138433944022080: TensorSpec(shape=(), dtype=tf.resource, name=None)\n",
            "  138433944025600: TensorSpec(shape=(), dtype=tf.resource, name=None)\n"
          ]
        }
      ],
      "source": [
        "import tensorflow as tf\n",
        "\n",
        "# Load the Keras model from .h5 file\n",
        "model = tf.keras.models.load_model(\"/content/fakenews.h5\")\n",
        "\n",
        "# Convert the model to TFLite\n",
        "converter = tf.lite.TFLiteConverter.from_keras_model(model)\n",
        "\n",
        "# Set experimental flags to handle complex operations\n",
        "converter.experimental_enable_resource_variables = True\n",
        "converter.target_spec.supported_ops = [\n",
        "    tf.lite.OpsSet.TFLITE_BUILTINS,  # Use TensorFlow Lite built-in operations\n",
        "    tf.lite.OpsSet.SELECT_TF_OPS  # Enable TensorFlow operations if needed\n",
        "]\n",
        "converter._experimental_lower_tensor_list_ops = False\n",
        "\n",
        "# Convert and save the model\n",
        "tflite_model = converter.convert()\n",
        "\n",
        "with open(\"fakenews.tflite\", \"wb\") as f:\n",
        "    f.write(tflite_model)\n"
      ]
    },
    {
      "cell_type": "code",
      "source": [],
      "metadata": {
        "id": "TB7tiGDtcg_F"
      },
      "execution_count": null,
      "outputs": []
    }
  ]
}